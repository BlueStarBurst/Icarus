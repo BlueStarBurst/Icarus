{
 "cells": [
  {
   "cell_type": "code",
   "execution_count": 1,
   "metadata": {},
   "outputs": [
    {
     "name": "stdout",
     "output_type": "stream",
     "text": [
      "[WinError 2] The system cannot find the file specified: '/content'\n",
      "c:\\Users\\texas\\Desktop\\Personal\\unity\\Icarus\\chatgpt\n"
     ]
    },
    {
     "name": "stderr",
     "output_type": "stream",
     "text": [
      "'apt-get' is not recognized as an internal or external command,\n",
      "operable program or batch file.\n"
     ]
    },
    {
     "name": "stdout",
     "output_type": "stream",
     "text": [
      "[WinError 3] The system cannot find the path specified: '/content/text-generation-webui'\n",
      "c:\\Users\\texas\\Desktop\\Personal\\unity\\Icarus\\chatgpt\n"
     ]
    },
    {
     "name": "stderr",
     "output_type": "stream",
     "text": [
      "Cloning into 'text-generation-webui'...\n",
      "ERROR: Could not open requirements file: [Errno 2] No such file or directory: 'requirements.txt'\n",
      "\n",
      "[notice] A new release of pip is available: 23.0.1 -> 23.1.2\n",
      "[notice] To update, run: python.exe -m pip install --upgrade pip\n"
     ]
    },
    {
     "name": "stdout",
     "output_type": "stream",
     "text": [
      "^C\n",
      "[WinError 3] The system cannot find the path specified: '/content/text-generation-webui/repositories'\n",
      "c:\\Users\\texas\\Desktop\\Personal\\unity\\Icarus\\chatgpt\n"
     ]
    },
    {
     "name": "stderr",
     "output_type": "stream",
     "text": [
      "The syntax of the command is incorrect.\n"
     ]
    },
    {
     "name": "stdout",
     "output_type": "stream",
     "text": [
      "c:\\Users\\texas\\Desktop\\Personal\\unity\\Icarus\\chatgpt\\GPTQ-for-LLaMa\n"
     ]
    },
    {
     "name": "stderr",
     "output_type": "stream",
     "text": [
      "Cloning into 'GPTQ-for-LLaMa'...\n"
     ]
    }
   ],
   "source": [
    "%cd /content\n",
    "!apt-get -y install -qq aria2\n",
    "\n",
    "!git clone -b v1.2 https://github.com/camenduru/text-generation-webui\n",
    "%cd /content/text-generation-webui\n",
    "!pip install -r requirements.txt\n",
    "!pip install -U gradio==3.28.3\n",
    "\n",
    "!mkdir /content/text-generation-webui/repositories\n",
    "%cd /content/text-generation-webui/repositories\n",
    "!git clone -b v1.2 https://github.com/camenduru/GPTQ-for-LLaMa.git\n",
    "%cd GPTQ-for-LLaMa\n",
    "!python setup_cuda.py install\n",
    "\n",
    "!aria2c --console-log-level=error -c -x 16 -s 16 -k 1M https://huggingface.co/4bit/vicuna-v1.1-13b-GPTQ-4bit-128g/raw/main/config.json -d /content/text-generation-webui/models/vicuna-v1.1-13b-GPTQ-4bit-128g -o config.json\n",
    "!aria2c --console-log-level=error -c -x 16 -s 16 -k 1M https://huggingface.co/4bit/vicuna-v1.1-13b-GPTQ-4bit-128g/raw/main/generation_config.json -d /content/text-generation-webui/models/vicuna-v1.1-13b-GPTQ-4bit-128g -o generation_config.json\n",
    "!aria2c --console-log-level=error -c -x 16 -s 16 -k 1M https://huggingface.co/4bit/vicuna-v1.1-13b-GPTQ-4bit-128g/raw/main/special_tokens_map.json -d /content/text-generation-webui/models/vicuna-v1.1-13b-GPTQ-4bit-128g -o special_tokens_map.json\n",
    "!aria2c --console-log-level=error -c -x 16 -s 16 -k 1M https://huggingface.co/4bit/vicuna-v1.1-13b-GPTQ-4bit-128g/resolve/main/tokenizer.model -d /content/text-generation-webui/models/vicuna-v1.1-13b-GPTQ-4bit-128g -o tokenizer.model\n",
    "!aria2c --console-log-level=error -c -x 16 -s 16 -k 1M https://huggingface.co/4bit/vicuna-v1.1-13b-GPTQ-4bit-128g/raw/main/tokenizer_config.json -d /content/text-generation-webui/models/vicuna-v1.1-13b-GPTQ-4bit-128g -o tokenizer_config.json\n",
    "!aria2c --console-log-level=error -c -x 16 -s 16 -k 1M https://huggingface.co/4bit/vicuna-v1.1-13b-GPTQ-4bit-128g/resolve/main/4bit-128g.safetensors -d /content/text-generation-webui/models/vicuna-v1.1-13b-GPTQ-4bit-128g -o 4bit-128g.safetensors\n",
    "\n",
    "%cd /content/text-generation-webui"
   ]
  }
 ],
 "metadata": {
  "kernelspec": {
   "display_name": "Python 3",
   "language": "python",
   "name": "python3"
  },
  "language_info": {
   "codemirror_mode": {
    "name": "ipython",
    "version": 3
   },
   "file_extension": ".py",
   "mimetype": "text/x-python",
   "name": "python",
   "nbconvert_exporter": "python",
   "pygments_lexer": "ipython3",
   "version": "3.11.0"
  },
  "orig_nbformat": 4
 },
 "nbformat": 4,
 "nbformat_minor": 2
}
